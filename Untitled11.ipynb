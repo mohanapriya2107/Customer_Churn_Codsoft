{
  "nbformat": 4,
  "nbformat_minor": 0,
  "metadata": {
    "colab": {
      "provenance": []
    },
    "kernelspec": {
      "name": "python3",
      "display_name": "Python 3"
    },
    "language_info": {
      "name": "python"
    }
  },
  "cells": [
    {
      "cell_type": "code",
      "execution_count": 3,
      "metadata": {
        "colab": {
          "base_uri": "https://localhost:8080/"
        },
        "id": "uyphpbl8YcGf",
        "outputId": "9de07f29-4075-4ec3-a69c-9e68ae02df5b"
      },
      "outputs": [
        {
          "output_type": "stream",
          "name": "stdout",
          "text": [
            "Logistic Regression Accuracy:  0.7155\n",
            "Logistic Regression Classification Report:\n",
            "               precision    recall  f1-score   support\n",
            "\n",
            "           0       0.90      0.72      0.80      1593\n",
            "           1       0.39      0.70      0.50       407\n",
            "\n",
            "    accuracy                           0.72      2000\n",
            "   macro avg       0.65      0.71      0.65      2000\n",
            "weighted avg       0.80      0.72      0.74      2000\n",
            "\n",
            "Logistic Regression Confusion Matrix:\n",
            " [[1147  446]\n",
            " [ 123  284]]\n",
            "Decision Tree Accuracy:  0.7645\n",
            "Decision Tree Classification Report:\n",
            "               precision    recall  f1-score   support\n",
            "\n",
            "           0       0.87      0.83      0.85      1593\n",
            "           1       0.43      0.53      0.48       407\n",
            "\n",
            "    accuracy                           0.76      2000\n",
            "   macro avg       0.65      0.68      0.66      2000\n",
            "weighted avg       0.78      0.76      0.77      2000\n",
            "\n",
            "Decision Tree Confusion Matrix:\n",
            " [[1315  278]\n",
            " [ 193  214]]\n",
            "Random Forest Accuracy:  0.842\n",
            "Random Forest Classification Report:\n",
            "               precision    recall  f1-score   support\n",
            "\n",
            "           0       0.90      0.91      0.90      1593\n",
            "           1       0.62      0.59      0.60       407\n",
            "\n",
            "    accuracy                           0.84      2000\n",
            "   macro avg       0.76      0.75      0.75      2000\n",
            "weighted avg       0.84      0.84      0.84      2000\n",
            "\n",
            "Random Forest Confusion Matrix:\n",
            " [[1442  151]\n",
            " [ 165  242]]\n"
          ]
        }
      ],
      "source": [
        "import pandas as pd\n",
        "import numpy as np\n",
        "from sklearn.model_selection import train_test_split\n",
        "from sklearn.preprocessing import StandardScaler\n",
        "from sklearn.linear_model import LogisticRegression\n",
        "from sklearn.tree import DecisionTreeClassifier\n",
        "from sklearn.ensemble import RandomForestClassifier\n",
        "from sklearn.metrics import accuracy_score, classification_report, confusion_matrix\n",
        "from imblearn.over_sampling import SMOTE\n",
        "\n",
        "# Load the dataset\n",
        "df = pd.read_csv('Churn_Modelling.csv')\n",
        "\n",
        "# Drop unnecessary columns\n",
        "df = df.drop(['RowNumber', 'CustomerId', 'Surname'], axis=1)\n",
        "\n",
        "# One-hot encoding for categorical columns\n",
        "df = pd.get_dummies(df, columns=['Geography', 'Gender'], drop_first=True)\n",
        "\n",
        "# Separate features and target variable\n",
        "X = df.drop('Exited', axis=1)\n",
        "y = df['Exited']\n",
        "\n",
        "# Split the data into training and testing sets\n",
        "X_train, X_test, y_train, y_test = train_test_split(X, y, test_size=0.2, random_state=42, stratify=y)\n",
        "\n",
        "# Scale the features\n",
        "scaler = StandardScaler()\n",
        "X_train_scaled = scaler.fit_transform(X_train)\n",
        "X_test_scaled = scaler.transform(X_test)\n",
        "\n",
        "# Handle class imbalance using SMOTE (Synthetic Minority Over-sampling Technique)\n",
        "smote = SMOTE(random_state=42)\n",
        "X_train_resampled, y_train_resampled = smote.fit_resample(X_train_scaled, y_train)\n",
        "\n",
        "# Logistic Regression\n",
        "lr_model = LogisticRegression(max_iter=1000, random_state=42)\n",
        "lr_model.fit(X_train_resampled, y_train_resampled)\n",
        "lr_predictions = lr_model.predict(X_test_scaled)\n",
        "print(\"Logistic Regression Accuracy: \", accuracy_score(y_test, lr_predictions))\n",
        "print(\"Logistic Regression Classification Report:\\n\", classification_report(y_test, lr_predictions))\n",
        "print(\"Logistic Regression Confusion Matrix:\\n\", confusion_matrix(y_test, lr_predictions))\n",
        "\n",
        "# Decision Tree\n",
        "dt_model = DecisionTreeClassifier(random_state=42)\n",
        "dt_model.fit(X_train_resampled, y_train_resampled)\n",
        "dt_predictions = dt_model.predict(X_test_scaled)\n",
        "print(\"Decision Tree Accuracy: \", accuracy_score(y_test, dt_predictions))\n",
        "print(\"Decision Tree Classification Report:\\n\", classification_report(y_test, dt_predictions))\n",
        "print(\"Decision Tree Confusion Matrix:\\n\", confusion_matrix(y_test, dt_predictions))\n",
        "\n",
        "# Random Forest\n",
        "rf_model = RandomForestClassifier(random_state=42)\n",
        "rf_model.fit(X_train_resampled, y_train_resampled)\n",
        "rf_predictions = rf_model.predict(X_test_scaled)\n",
        "print(\"Random Forest Accuracy: \", accuracy_score(y_test, rf_predictions))\n",
        "print(\"Random Forest Classification Report:\\n\", classification_report(y_test, rf_predictions))\n",
        "print(\"Random Forest Confusion Matrix:\\n\", confusion_matrix(y_test, rf_predictions))"
      ]
    },
    {
      "cell_type": "code",
      "source": [],
      "metadata": {
        "id": "eEKiPtiDYyPD"
      },
      "execution_count": null,
      "outputs": []
    }
  ]
}